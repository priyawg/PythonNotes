{
 "cells": [
  {
   "cell_type": "code",
   "execution_count": 1,
   "metadata": {},
   "outputs": [],
   "source": [
    "import logging"
   ]
  },
  {
   "cell_type": "markdown",
   "metadata": {},
   "source": [
    "One way debugging is by using print statement but for bigger projects, it is not a right idea. Logs helps a lot in many situations.\n",
    "\n",
    "There are 5 standered logging levels. \n",
    "\n",
    "    1.DEBUG : Detailed information, typically of interest only when diagnosing problem.\n",
    "\n",
    "    2.INFO : Confirming that things are working as expected.\n",
    "\n",
    "    3.WARNING : An indication that somthing unexpected happend, or indicative of some problem in the near future\n",
    "     (e.g, disk space low). The software is still working as expected\n",
    "\n",
    "    4. ERROR : Due to a more serious problem, the software has not been able to perform some function.\n",
    "\n",
    "    5. CRITICAL : A very serious error, indiacating that the program itself may be unable to continue running\n",
    "    "
   ]
  },
  {
   "cell_type": "markdown",
   "metadata": {},
   "source": [
    "Log files gets updted only when code gets executed. So, error/execption doesn't get logged into log files unless it was specified. One way is to pass error in except block in try and except block."
   ]
  },
  {
   "cell_type": "markdown",
   "metadata": {},
   "source": [
    "By default, logging level is warining i.e, it only going to log warning and higher level(error and critical) and ignore lower levels(Debug and info)"
   ]
  },
  {
   "cell_type": "code",
   "execution_count": 11,
   "metadata": {},
   "outputs": [],
   "source": [
    "logging.basicConfig(\n",
    "    filename = 'Basiclogging.log',\n",
    "    level = logging.DEBUG,\n",
    "    format = '%(asctime)s:%(name)s:%(levelname)s:%(message)s')"
   ]
  },
  {
   "cell_type": "code",
   "execution_count": 12,
   "metadata": {},
   "outputs": [],
   "source": [
    "def add(x,y):\n",
    "    return x*y\n",
    "\n",
    "def div(x,y):\n",
    "    try:\n",
    "        return x/y\n",
    "    except ZeroDivisionError as e:\n",
    "        logging.info(f'x/y = {e}')"
   ]
  },
  {
   "cell_type": "code",
   "execution_count": 13,
   "metadata": {},
   "outputs": [],
   "source": [
    "num_1 = 3\n",
    "num_2 = 4\n",
    "num_3 = 0"
   ]
  },
  {
   "cell_type": "code",
   "execution_count": 14,
   "metadata": {},
   "outputs": [],
   "source": [
    "result = add(num_1,num_3)\n",
    "logging.info(f'3+4 = {result}')"
   ]
  },
  {
   "cell_type": "code",
   "execution_count": 15,
   "metadata": {},
   "outputs": [],
   "source": [
    "result = div(num_2,num_3)\n",
    "logging.debug(f'4/0: {result}')"
   ]
  },
  {
   "cell_type": "code",
   "execution_count": null,
   "metadata": {},
   "outputs": [],
   "source": []
  }
 ],
 "metadata": {
  "kernelspec": {
   "display_name": "Python 3",
   "language": "python",
   "name": "python3"
  },
  "language_info": {
   "codemirror_mode": {
    "name": "ipython",
    "version": 3
   },
   "file_extension": ".py",
   "mimetype": "text/x-python",
   "name": "python",
   "nbconvert_exporter": "python",
   "pygments_lexer": "ipython3",
   "version": "3.8.2"
  }
 },
 "nbformat": 4,
 "nbformat_minor": 4
}
