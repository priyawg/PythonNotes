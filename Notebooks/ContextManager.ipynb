{
 "cells": [
  {
   "cell_type": "markdown",
   "metadata": {},
   "source": [
    "Context Manager makes code clearner and easy to read. \n",
    "\n",
    "context manager takes care of trying excecution and what to do at the end, irrespective of execution. In other words, it works as same as try,except way"
   ]
  },
  {
   "cell_type": "code",
   "execution_count": 1,
   "metadata": {},
   "outputs": [],
   "source": [
    "# custom context manager class. \n",
    "# __enter__ works as try and __exit__ works as finally.\n",
    "\n",
    "class ManagedFiles:\n",
    "    \n",
    "    def __init__(self,name):\n",
    "        self.name = name\n",
    "        \n",
    "    def __enter__(self):\n",
    "        self.file = open(self.name, \"w\")\n",
    "        return self.file\n",
    "    \n",
    "    def __exit__(self, exc_type, exc_val, exc_tb):\n",
    "        if self.file:\n",
    "            self.file.close()\n",
    "        "
   ]
  },
  {
   "cell_type": "code",
   "execution_count": 2,
   "metadata": {},
   "outputs": [],
   "source": [
    "with ManagedFiles('hello.txt') as f:\n",
    "    f.write('hello world!')\n",
    "    f.write('bye world!')"
   ]
  },
  {
   "cell_type": "code",
   "execution_count": 5,
   "metadata": {},
   "outputs": [
    {
     "data": {
      "text/plain": [
       "<_io.TextIOWrapper name='hello.txt' mode='r' encoding='cp1252'>"
      ]
     },
     "execution_count": 5,
     "metadata": {},
     "output_type": "execute_result"
    }
   ],
   "source": []
  },
  {
   "cell_type": "code",
   "execution_count": 18,
   "metadata": {},
   "outputs": [],
   "source": [
    "# custom context manager class. \n",
    "# __enter__ works as try and __exit__ works as finally.\n",
    "\n",
    "class ManagedFiles:\n",
    "    \n",
    "    def __init__(self,numberStr):\n",
    "        self.numberStr = numberStr\n",
    "        \n",
    "    def __enter__(self,numberStr):\n",
    "        four = numberStr + 2\n",
    "        print (four)\n",
    "    \n",
    "    def __exit__(self, exc_type, exc_val, exc_tb):\n",
    "            print(\"done\")\n",
    "#             self.file.close()\n",
    "        "
   ]
  },
  {
   "cell_type": "code",
   "execution_count": 20,
   "metadata": {},
   "outputs": [
    {
     "ename": "SyntaxError",
     "evalue": "invalid syntax (<ipython-input-20-149012c0fea4>, line 2)",
     "output_type": "error",
     "traceback": [
      "\u001b[1;36m  File \u001b[1;32m\"<ipython-input-20-149012c0fea4>\"\u001b[1;36m, line \u001b[1;32m2\u001b[0m\n\u001b[1;33m    m.(2)\u001b[0m\n\u001b[1;37m      ^\u001b[0m\n\u001b[1;31mSyntaxError\u001b[0m\u001b[1;31m:\u001b[0m invalid syntax\n"
     ]
    }
   ],
   "source": [
    "with ManagedFiles(2) as m:\n",
    "    m."
   ]
  },
  {
   "cell_type": "code",
   "execution_count": 13,
   "metadata": {},
   "outputs": [],
   "source": [
    "def example(two):\n",
    "    try:\n",
    "        four = two + 2\n",
    "        print(four)\n",
    "    finally:\n",
    "        print(\"done\")"
   ]
  },
  {
   "cell_type": "code",
   "execution_count": 14,
   "metadata": {},
   "outputs": [
    {
     "name": "stdout",
     "output_type": "stream",
     "text": [
      "4\n",
      "done\n"
     ]
    }
   ],
   "source": [
    "example(2)"
   ]
  },
  {
   "cell_type": "code",
   "execution_count": null,
   "metadata": {},
   "outputs": [],
   "source": []
  }
 ],
 "metadata": {
  "kernelspec": {
   "display_name": "Python 3",
   "language": "python",
   "name": "python3"
  },
  "language_info": {
   "codemirror_mode": {
    "name": "ipython",
    "version": 3
   },
   "file_extension": ".py",
   "mimetype": "text/x-python",
   "name": "python",
   "nbconvert_exporter": "python",
   "pygments_lexer": "ipython3",
   "version": "3.8.2"
  }
 },
 "nbformat": 4,
 "nbformat_minor": 4
}
