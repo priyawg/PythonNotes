{
 "cells": [
  {
   "cell_type": "code",
   "execution_count": 5,
   "metadata": {},
   "outputs": [],
   "source": [
    "def decorator_function(original_function):\n",
    "    \n",
    "    def wrapper_function(*args,**kwargs):\n",
    "        print(\"I am a content in wrapper function\")\n",
    "        print(\"And I will print first\")\n",
    "        return original_function(*args,**kwargs)\n",
    "    \n",
    "    return wrapper_function"
   ]
  },
  {
   "cell_type": "code",
   "execution_count": 6,
   "metadata": {},
   "outputs": [],
   "source": [
    "@decorator_function\n",
    "def display_info(name,ID):\n",
    "    print(f'Name: {name}, ID: {ID}')"
   ]
  },
  {
   "cell_type": "code",
   "execution_count": 7,
   "metadata": {},
   "outputs": [
    {
     "name": "stdout",
     "output_type": "stream",
     "text": [
      "I am a content in wrapper function\n",
      "And I will print first\n",
      "Name: sree, ID: 001\n"
     ]
    }
   ],
   "source": [
    "display_info('sree','001')"
   ]
  },
  {
   "cell_type": "code",
   "execution_count": 24,
   "metadata": {},
   "outputs": [],
   "source": [
    "# LOGGER FUNCTION\n",
    "def my_logger(original_function):\n",
    "    import logging\n",
    "    logging.basicConfig(filename=f'{original_function.__name__}.log', level = logging.INFO)\n",
    "    \n",
    "    def wrapper_function(*args,**kwargs):\n",
    "        logging.info(f'Ran with args: {args} and Kwargs: {kwargs}')\n",
    "        return original_function(*args,**kwargs)\n",
    "    \n",
    "    return wrapper_function"
   ]
  },
  {
   "cell_type": "code",
   "execution_count": 28,
   "metadata": {},
   "outputs": [],
   "source": [
    "# TIMER FUNCTION\n",
    "def my_timer(original_function):\n",
    "    import time\n",
    "    \n",
    "    def wrapper_function(*args,**kwargs):\n",
    "        t1 = time.time()\n",
    "        original_func = original_function(*args,**kwargs)\n",
    "        t2 = time.time()\n",
    "        print(f'Time taken to run {original_function.__name__} is {t2-t1}')\n",
    "        \n",
    "        return original_func\n",
    "    \n",
    "    return wrapper_function"
   ]
  },
  {
   "cell_type": "code",
   "execution_count": 29,
   "metadata": {},
   "outputs": [],
   "source": [
    "# Pass decorators, my_logger and my_timer to function, display\n",
    "\n",
    "@my_logger\n",
    "@my_timer\n",
    "def display_info(name,ID):\n",
    "    print(f'Name: {name}, ID: {ID}')\n",
    "    \n",
    "display_info('Sree','001')"
   ]
  },
  {
   "cell_type": "code",
   "execution_count": 30,
   "metadata": {},
   "outputs": [
    {
     "name": "stdout",
     "output_type": "stream",
     "text": [
      "Name: Sree, ID: 001\n",
      "Time taken to run display_info is 0.0\n"
     ]
    }
   ],
   "source": [
    "@my_timer\n",
    "@my_logger\n",
    "def display_info(name,ID):\n",
    "    print(f'Name: {name}, ID: {ID}')\n",
    "    \n",
    "display_info('Sree','001')"
   ]
  },
  {
   "cell_type": "markdown",
   "metadata": {},
   "source": [
    "OUTPUT CHANGES WITH THE ORDER OF DECORATORS WE PASS TO THE FUNCTION. FOR GIVEN EXAMPLE, OUTPUT OF A FUCTION,WTIH @my_logger and @my_timer FROM OUTPUT OF A FUCTION,WTIH @my_timer and @my_logger"
   ]
  },
  {
   "cell_type": "markdown",
   "metadata": {},
   "source": [
    "One way to solve this by using method, wraps from library,functools"
   ]
  },
  {
   "cell_type": "code",
   "execution_count": 31,
   "metadata": {},
   "outputs": [],
   "source": [
    "from functools import wraps\n",
    "\n",
    "# LOGGER FUNCTION\n",
    "def my_logger(original_function):\n",
    "    import logging\n",
    "    logging.basicConfig(filename=f'{original_function.__name__}.log', level = logging.INFO)\n",
    "    \n",
    "    @wraps(original_function)\n",
    "    def wrapper_function(*args,**kwargs):\n",
    "        logging.info(f'Ran with args: {args} and Kwargs: {kwargs}')\n",
    "        return original_function(*args,**kwargs)\n",
    "    \n",
    "    return wrapper_function\n",
    "\n",
    "# TIMER FUNCTION\n",
    "def my_timer(original_function):\n",
    "    import time\n",
    "    \n",
    "    @wraps(original_function)\n",
    "    def wrapper_function(*args,**kwargs):\n",
    "        t1 = time.time()\n",
    "        original_func = original_function(*args,**kwargs)\n",
    "        t2 = time.time()\n",
    "        print(f'Time taken to run {original_function.__name__} is {t2-t1}')\n",
    "        \n",
    "        return original_func\n",
    "    \n",
    "    return wrapper_function"
   ]
  },
  {
   "cell_type": "code",
   "execution_count": 32,
   "metadata": {},
   "outputs": [
    {
     "name": "stdout",
     "output_type": "stream",
     "text": [
      "Name: Sree, ID: 001\n",
      "Time taken to run display_info is 0.0\n"
     ]
    }
   ],
   "source": [
    "# Pass decorators, my_logger and my_timer to function, display\n",
    "\n",
    "@my_logger\n",
    "@my_timer\n",
    "def display_info(name,ID):\n",
    "    print(f'Name: {name}, ID: {ID}')\n",
    "    \n",
    "display_info('Sree','001')"
   ]
  },
  {
   "cell_type": "code",
   "execution_count": 33,
   "metadata": {},
   "outputs": [
    {
     "name": "stdout",
     "output_type": "stream",
     "text": [
      "Name: Sree, ID: 001\n",
      "Time taken to run display_info is 0.0010616779327392578\n"
     ]
    }
   ],
   "source": [
    "@my_timer\n",
    "@my_logger\n",
    "def display_info(name,ID):\n",
    "    print(f'Name: {name}, ID: {ID}')\n",
    "    \n",
    "display_info('Sree','001')"
   ]
  },
  {
   "cell_type": "code",
   "execution_count": null,
   "metadata": {},
   "outputs": [],
   "source": []
  }
 ],
 "metadata": {
  "kernelspec": {
   "display_name": "Python 3",
   "language": "python",
   "name": "python3"
  },
  "language_info": {
   "codemirror_mode": {
    "name": "ipython",
    "version": 3
   },
   "file_extension": ".py",
   "mimetype": "text/x-python",
   "name": "python",
   "nbconvert_exporter": "python",
   "pygments_lexer": "ipython3",
   "version": "3.8.2"
  }
 },
 "nbformat": 4,
 "nbformat_minor": 4
}
