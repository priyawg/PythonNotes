{
 "cells": [
  {
   "cell_type": "code",
   "execution_count": 30,
   "metadata": {},
   "outputs": [],
   "source": [
    "id_name = {\n",
    "    1001:'Alice',\n",
    "    1003:'Bob',\n",
    "    1002:'Caitlyn',\n",
    "          }"
   ]
  },
  {
   "cell_type": "code",
   "execution_count": 2,
   "metadata": {},
   "outputs": [
    {
     "data": {
      "text/plain": [
       "{1001: 'Alice', 1002: 'Bob', 1003: 'Caitlyn'}"
      ]
     },
     "execution_count": 2,
     "metadata": {},
     "output_type": "execute_result"
    }
   ],
   "source": [
    "id_name"
   ]
  },
  {
   "cell_type": "code",
   "execution_count": 4,
   "metadata": {},
   "outputs": [
    {
     "data": {
      "text/plain": [
       "'Alice'"
      ]
     },
     "execution_count": 4,
     "metadata": {},
     "output_type": "execute_result"
    }
   ],
   "source": [
    "id_name[1001]"
   ]
  },
  {
   "cell_type": "code",
   "execution_count": 3,
   "metadata": {},
   "outputs": [
    {
     "data": {
      "text/plain": [
       "'Alice'"
      ]
     },
     "execution_count": 3,
     "metadata": {},
     "output_type": "execute_result"
    }
   ],
   "source": [
    "# It works just as above\n",
    "id_name.get(1001)"
   ]
  },
  {
   "cell_type": "code",
   "execution_count": 15,
   "metadata": {},
   "outputs": [],
   "source": [
    "def greetings(ID):\n",
    "    return id_name[ID]"
   ]
  },
  {
   "cell_type": "code",
   "execution_count": 19,
   "metadata": {},
   "outputs": [
    {
     "data": {
      "text/plain": [
       "'Caitlyn'"
      ]
     },
     "execution_count": 19,
     "metadata": {},
     "output_type": "execute_result"
    }
   ],
   "source": [
    "greetings(1003)"
   ]
  },
  {
   "cell_type": "code",
   "execution_count": 18,
   "metadata": {},
   "outputs": [
    {
     "ename": "KeyError",
     "evalue": "1004",
     "output_type": "error",
     "traceback": [
      "\u001b[1;31m---------------------------------------------------------------------------\u001b[0m",
      "\u001b[1;31mKeyError\u001b[0m                                  Traceback (most recent call last)",
      "\u001b[1;32m<ipython-input-18-7a92a2048f17>\u001b[0m in \u001b[0;36m<module>\u001b[1;34m\u001b[0m\n\u001b[1;32m----> 1\u001b[1;33m \u001b[0mgreetings\u001b[0m\u001b[1;33m(\u001b[0m\u001b[1;36m1004\u001b[0m\u001b[1;33m)\u001b[0m\u001b[1;33m\u001b[0m\u001b[1;33m\u001b[0m\u001b[0m\n\u001b[0m",
      "\u001b[1;32m<ipython-input-15-f3c64719b77d>\u001b[0m in \u001b[0;36mgreetings\u001b[1;34m(ID)\u001b[0m\n\u001b[0;32m      1\u001b[0m \u001b[1;32mdef\u001b[0m \u001b[0mgreetings\u001b[0m\u001b[1;33m(\u001b[0m\u001b[0mID\u001b[0m\u001b[1;33m)\u001b[0m\u001b[1;33m:\u001b[0m\u001b[1;33m\u001b[0m\u001b[1;33m\u001b[0m\u001b[0m\n\u001b[1;32m----> 2\u001b[1;33m     \u001b[1;32mreturn\u001b[0m \u001b[0mid_name\u001b[0m\u001b[1;33m[\u001b[0m\u001b[0mID\u001b[0m\u001b[1;33m]\u001b[0m\u001b[1;33m\u001b[0m\u001b[1;33m\u001b[0m\u001b[0m\n\u001b[0m",
      "\u001b[1;31mKeyError\u001b[0m: 1004"
     ]
    }
   ],
   "source": [
    "# For unknown keys it raises an error\n",
    "greetings(1004)"
   ]
  },
  {
   "cell_type": "code",
   "execution_count": 22,
   "metadata": {},
   "outputs": [
    {
     "name": "stdout",
     "output_type": "stream",
     "text": [
      "unknown user\n"
     ]
    }
   ],
   "source": [
    "# First method : One way to avoid it by try and else\n",
    "def greetings(ID):\n",
    "    try:\n",
    "        return id_name[ID]\n",
    "    except:\n",
    "        print(\"unknown user\")\n",
    "    \n",
    "greetings(1004)"
   ]
  },
  {
   "cell_type": "code",
   "execution_count": 23,
   "metadata": {},
   "outputs": [
    {
     "name": "stdout",
     "output_type": "stream",
     "text": [
      "unknown user\n"
     ]
    }
   ],
   "source": [
    "# Second method : We can use dictionaries get method for cleaner and more readable code\n",
    "def greentings(ID):\n",
    "    return id_name.get(ID,\"unknown user\")\n",
    "\n",
    "greetings(1004)"
   ]
  },
  {
   "cell_type": "code",
   "execution_count": 29,
   "metadata": {},
   "outputs": [
    {
     "data": {
      "text/plain": [
       "[(1001, 'Alice'), (1002, 'Bob'), (1003, 'Caitlyn')]"
      ]
     },
     "execution_count": 29,
     "metadata": {},
     "output_type": "execute_result"
    }
   ],
   "source": [
    "# sort by keys and returns a list of tuples\n",
    "sorted(id_name.items())"
   ]
  },
  {
   "cell_type": "code",
   "execution_count": 31,
   "metadata": {},
   "outputs": [
    {
     "data": {
      "text/plain": [
       "[(1001, 'Alice'), (1003, 'Bob'), (1002, 'Caitlyn')]"
      ]
     },
     "execution_count": 31,
     "metadata": {},
     "output_type": "execute_result"
    }
   ],
   "source": [
    "# sort by values and returns a list of tuples\n",
    "sorted(id_name.items(), key= lambda x : x[1])"
   ]
  },
  {
   "cell_type": "code",
   "execution_count": 32,
   "metadata": {},
   "outputs": [
    {
     "data": {
      "text/plain": [
       "[(1002, 'Caitlyn'), (1003, 'Bob'), (1001, 'Alice')]"
      ]
     },
     "execution_count": 32,
     "metadata": {},
     "output_type": "execute_result"
    }
   ],
   "source": [
    "# sort by values and returns a list of tuples - In reverse order\n",
    "sorted(id_name.items(), \n",
    "       key= lambda x : x[1],\n",
    "      reverse = True)"
   ]
  },
  {
   "cell_type": "markdown",
   "metadata": {},
   "source": [
    "### DICTIONARIES INPLACE OF IF ELSE LOOPS"
   ]
  },
  {
   "cell_type": "code",
   "execution_count": 37,
   "metadata": {},
   "outputs": [],
   "source": [
    "# Example 1\n",
    "\n",
    "def if_else(value):\n",
    "    if value == 'A':\n",
    "        print('a')\n",
    "    elif value == 'B':\n",
    "        print('b')\n",
    "    elif value == 'C':\n",
    "        print('c')\n",
    "    elif value == 'D':\n",
    "        print('d')\n",
    "    elif value == 'E':\n",
    "        print('e')\n",
    "    elif value == 'F':\n",
    "        print('f')\n",
    "    elif value == 'G':\n",
    "        print('g')\n",
    "    elif value == 'H':\n",
    "        print('h')"
   ]
  },
  {
   "cell_type": "code",
   "execution_count": 39,
   "metadata": {},
   "outputs": [
    {
     "name": "stdout",
     "output_type": "stream",
     "text": [
      "h\n",
      "None\n"
     ]
    }
   ],
   "source": [
    "if_else(\"H\")\n",
    "\n",
    "# I does not exsits in the function but python adds an implicit RETURN \"None\" statement to the end of any function\n",
    "print(if_else(\"I\"))"
   ]
  },
  {
   "cell_type": "code",
   "execution_count": 40,
   "metadata": {},
   "outputs": [
    {
     "name": "stdout",
     "output_type": "stream",
     "text": [
      "h\n",
      "None\n"
     ]
    }
   ],
   "source": [
    "# Example one can be written using dictionaries. It reduces LOCs and makes code looks cleaner\n",
    "\n",
    "if_else_dic = {\n",
    "    'A':'a',\n",
    "    'B':'b',\n",
    "    'C':'c',\n",
    "    'D':'d',\n",
    "    'E':'e',\n",
    "    'F':'f',\n",
    "    'G':'g',\n",
    "    'H':'h',\n",
    "              }\n",
    "\n",
    "def if_else(value):\n",
    "    print(if_else_dic.get(value,None))\n",
    "    \n",
    "if_else('H')\n",
    "if_else('X')"
   ]
  },
  {
   "cell_type": "code",
   "execution_count": 56,
   "metadata": {},
   "outputs": [
    {
     "ename": "TypeError",
     "evalue": "<lambda>() missing 1 required positional argument: 'x'",
     "output_type": "error",
     "traceback": [
      "\u001b[1;31m---------------------------------------------------------------------------\u001b[0m",
      "\u001b[1;31mTypeError\u001b[0m                                 Traceback (most recent call last)",
      "\u001b[1;32m<ipython-input-56-7e4af613b54a>\u001b[0m in \u001b[0;36m<module>\u001b[1;34m\u001b[0m\n\u001b[0;32m     10\u001b[0m     }.get(opr, lambda: None)()\n\u001b[0;32m     11\u001b[0m \u001b[1;33m\u001b[0m\u001b[0m\n\u001b[1;32m---> 12\u001b[1;33m \u001b[0moperation_dict\u001b[0m\u001b[1;33m(\u001b[0m\u001b[1;34m'add'\u001b[0m\u001b[1;33m,\u001b[0m\u001b[1;36m3\u001b[0m\u001b[1;33m,\u001b[0m\u001b[1;36m4\u001b[0m\u001b[1;33m)\u001b[0m\u001b[1;33m\u001b[0m\u001b[1;33m\u001b[0m\u001b[0m\n\u001b[0m",
      "\u001b[1;32m<ipython-input-56-7e4af613b54a>\u001b[0m in \u001b[0;36moperation_dict\u001b[1;34m(opr, x, y)\u001b[0m\n\u001b[0;32m      3\u001b[0m \u001b[1;32mdef\u001b[0m \u001b[0moperation_dict\u001b[0m\u001b[1;33m(\u001b[0m\u001b[0mopr\u001b[0m\u001b[1;33m,\u001b[0m \u001b[0mx\u001b[0m\u001b[1;33m,\u001b[0m \u001b[0my\u001b[0m\u001b[1;33m)\u001b[0m\u001b[1;33m:\u001b[0m\u001b[1;33m\u001b[0m\u001b[1;33m\u001b[0m\u001b[0m\n\u001b[0;32m      4\u001b[0m \u001b[1;33m\u001b[0m\u001b[0m\n\u001b[1;32m----> 5\u001b[1;33m     return {\n\u001b[0m\u001b[0;32m      6\u001b[0m         \u001b[1;34m'add'\u001b[0m\u001b[1;33m:\u001b[0m\u001b[1;32mlambda\u001b[0m \u001b[0mx\u001b[0m \u001b[1;33m:\u001b[0m \u001b[0mx\u001b[0m \u001b[1;33m+\u001b[0m \u001b[0my\u001b[0m\u001b[1;33m,\u001b[0m\u001b[1;33m\u001b[0m\u001b[1;33m\u001b[0m\u001b[0m\n\u001b[0;32m      7\u001b[0m         \u001b[1;34m'sub'\u001b[0m\u001b[1;33m:\u001b[0m\u001b[1;32mlambda\u001b[0m \u001b[0mx\u001b[0m \u001b[1;33m:\u001b[0m \u001b[0mx\u001b[0m \u001b[1;33m-\u001b[0m \u001b[0my\u001b[0m\u001b[1;33m,\u001b[0m\u001b[1;33m\u001b[0m\u001b[1;33m\u001b[0m\u001b[0m\n",
      "\u001b[1;31mTypeError\u001b[0m: <lambda>() missing 1 required positional argument: 'x'"
     ]
    }
   ],
   "source": [
    "# Example 2:\n",
    "\n",
    "def operation_dict(opr, x, y):\n",
    "    \n",
    "    return {\n",
    "        'add':lambda x : x + y,\n",
    "        'sub':lambda x : x - y,\n",
    "        'mul':lambda x : x * y,\n",
    "        'div':lambda x : x // y,\n",
    "    }.get(opr, lambda: None)()\n",
    "\n",
    "operation_dict('add',3,4)"
   ]
  },
  {
   "cell_type": "code",
   "execution_count": 66,
   "metadata": {},
   "outputs": [
    {
     "name": "stdout",
     "output_type": "stream",
     "text": [
      "7\n",
      "check key\n"
     ]
    }
   ],
   "source": [
    "# Example 2:\n",
    "\n",
    "op = {\n",
    "    'add':lambda x,y : x + y,\n",
    "    'sub':lambda x,y : x - y,\n",
    "    'mul':lambda x,y : x * y,\n",
    "    'div':lambda x,y : x // y,\n",
    "}\n",
    "\n",
    "def operation_dict(opr, x, y):\n",
    "    try:\n",
    "        return op.get(opr)(x,y)\n",
    "    except:\n",
    "        print(\"check key\")\n",
    "\n",
    "print(operation_dict('add',3,4))1\n",
    "operation_dict('df',3,4)"
   ]
  },
  {
   "cell_type": "markdown",
   "metadata": {},
   "source": [
    "#### CONCLUSION: \n",
    "* This methos is useful only when all if statements provide unique results. \n",
    "* It is not preferred when it becomes more complicated"
   ]
  },
  {
   "cell_type": "markdown",
   "metadata": {},
   "source": [
    "### REGULAR PITFALLS\n",
    "\n"
   ]
  },
  {
   "cell_type": "code",
   "execution_count": 67,
   "metadata": {},
   "outputs": [
    {
     "data": {
      "text/plain": [
       "{True: 'Line three'}"
      ]
     },
     "execution_count": 67,
     "metadata": {},
     "output_type": "execute_result"
    }
   ],
   "source": [
    "# Output of below LOC talks a lot about boolean operations\n",
    "\n",
    "{\n",
    "    True : 'Line one',\n",
    "    1.0 : 'line two',\n",
    "    1 : 'Line three'\n",
    "}"
   ]
  },
  {
   "cell_type": "markdown",
   "metadata": {},
   "source": [
    "Here, True == 1.0 == 1. So, if we provide same different value to existing key then value related to that key gets replaced"
   ]
  },
  {
   "cell_type": "code",
   "execution_count": null,
   "metadata": {},
   "outputs": [],
   "source": []
  }
 ],
 "metadata": {
  "kernelspec": {
   "display_name": "Python 3",
   "language": "python",
   "name": "python3"
  },
  "language_info": {
   "codemirror_mode": {
    "name": "ipython",
    "version": 3
   },
   "file_extension": ".py",
   "mimetype": "text/x-python",
   "name": "python",
   "nbconvert_exporter": "python",
   "pygments_lexer": "ipython3",
   "version": "3.8.2"
  }
 },
 "nbformat": 4,
 "nbformat_minor": 4
}
